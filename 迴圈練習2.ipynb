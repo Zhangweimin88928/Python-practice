{
  "nbformat": 4,
  "nbformat_minor": 0,
  "metadata": {
    "colab": {
      "provenance": []
    },
    "kernelspec": {
      "name": "python3",
      "display_name": "Python 3"
    },
    "language_info": {
      "name": "python"
    }
  },
  "cells": [
    {
      "cell_type": "code",
      "execution_count": 4,
      "metadata": {
        "colab": {
          "base_uri": "https://localhost:8080/"
        },
        "id": "USJZA9vaJGk4",
        "outputId": "64991ece-38bc-406f-e75f-6f739acf0e20"
      },
      "outputs": [
        {
          "output_type": "stream",
          "name": "stdout",
          "text": [
            "\tc0\tc1\tc2\t\n",
            "r1\t1\t2\t3\t\n",
            "r2\t4\t5\t6\t\n",
            "r3\t7\t8\t9\t\n"
          ]
        }
      ],
      "source": [
        "#P57, EX2\n",
        "m=[[1,2,3], [4,5,6], [7,8,9]]\n",
        "print(\"\\tc0\\tc1\\tc2\\t\")\n",
        "for i in range(len(m)):\n",
        "  print(f'r{i+1}',end='\\t')\n",
        "  for j in range(len(m[i])):\n",
        "    print(m[i][j],end='\\t')\n",
        "  print()"
      ]
    },
    {
      "cell_type": "code",
      "source": [
        "#P57, EX3 \n",
        "m=[[1,2,3], [4,5,6], [7,8,9]]\n",
        "rowNo=len(m)\n",
        "maxCol=max([len(L)for L in m])\n",
        "\n",
        "rowSum=[0 for i in range(rowNo)]\n",
        "colSum=[0 for i in range(maxCol)]\n",
        "\n",
        "for i in range(rowNo):\n",
        "  for j in range(maxCol):\n",
        "    rowSum[i]+= m[i][j]\n",
        "    colSum[i]+= m[j][i]    \n",
        "\n",
        "print('rowSum=',rowSum,'colSum=',colSum)"
      ],
      "metadata": {
        "colab": {
          "base_uri": "https://localhost:8080/"
        },
        "id": "OBYb-O14JwqU",
        "outputId": "2b15a7a8-e8be-4e69-9a2c-3803519f21ea"
      },
      "execution_count": 14,
      "outputs": [
        {
          "output_type": "stream",
          "name": "stdout",
          "text": [
            "rowSum= [6, 15, 24] colSum= [12, 15, 18]\n"
          ]
        }
      ]
    },
    {
      "cell_type": "code",
      "source": [
        "# P58 EX2\n",
        "import random\n",
        "avg=[]\n",
        "stud_no=[56,43,49,65]\n",
        "for i in range(len(stud_no)):\n",
        "  stud_no[i]=[random.randint(0,100) for _ in range(stud_no[i])]\n",
        "  avg.append(round(sum(stud_no[i])/len(stud_no[i]),2))\n",
        "print('Class average:',avg)\n",
        "print('Toatal average:',round(sum([x for i in stud_no for x in i])/sum([len(x) for x in stud_no]),2))"
      ],
      "metadata": {
        "colab": {
          "base_uri": "https://localhost:8080/"
        },
        "id": "6eTMIl2sTV2U",
        "outputId": "7c0ed08b-f985-4847-e3f0-ecc4d401f0c9"
      },
      "execution_count": 15,
      "outputs": [
        {
          "output_type": "stream",
          "name": "stdout",
          "text": [
            "Class average: [57.7, 50.33, 49.86, 49.66]\n",
            "Toatal average: 51.95\n"
          ]
        }
      ]
    },
    {
      "cell_type": "code",
      "source": [
        "#P58, EX3\n",
        "m1=[\n",
        "  [1,2,3,4],[5,6,7,8],[9,10,11,12] \n",
        "]\n",
        "m2 = [[m1[i][j] + m1[i][j] for j in range(len(m1[0]))] for i in range(len(m1))]\n",
        "m3 = [[m1[j][i] for j in range(len(m1))] for i in range(len(m1[0]))]\n",
        "m4 = [[sum(m1[i][t]*m3[t][j] for t in range(len(m3))) for j in range(len(m3[0]))] for i in range(len(m1))]\n",
        "\n",
        "print('m2 =',m2)\n",
        "print('m3 =',m3)\n",
        "print('m4 =',m4)"
      ],
      "metadata": {
        "colab": {
          "base_uri": "https://localhost:8080/"
        },
        "id": "SBZwEll7kWXy",
        "outputId": "c59abe85-b4f9-43f4-9d78-0666167ab858"
      },
      "execution_count": 21,
      "outputs": [
        {
          "output_type": "stream",
          "name": "stdout",
          "text": [
            "m2 = [[2, 4, 6, 8], [10, 12, 14, 16], [18, 20, 22, 24]]\n",
            "m3 = [[1, 5, 9], [2, 6, 10], [3, 7, 11], [4, 8, 12]]\n",
            "m4 = [[30, 70, 110], [70, 174, 278], [110, 278, 446]]\n"
          ]
        }
      ]
    },
    {
      "cell_type": "code",
      "source": [
        "#P60, EX1\n",
        "import random\n",
        "random.seed(111)\n",
        "data=[random.randint(-100,100) for _ in range(1000)]\n",
        "pos=[x for x in data if x>=0]\n",
        "neg=[x for x in data if x<0]\n",
        "\n",
        "def std(arr):\n",
        "  mean = sum(arr) / len(arr)\n",
        "  var = sum((l-mean)**2 for l in arr) / len(arr)\n",
        "  return (var/mean)**2\n",
        "\n",
        "avg=sum(pos)/len(pos)\n",
        "p_std=std(pos)\n",
        "avg=sum(neg)/len(neg)\n",
        "n_std=std(neg)\n",
        "pos=[i for i in pos if avg-p_std < i < avg+p_std]\n",
        "neg=[i for i in neg if avg-n_std < i < avg+n_std]\n",
        "print('data avg:',sum(data)/len(data))\n",
        "print('pos avg:',sum(pos)/len(pos))\n",
        "print('neg avg:',sum(neg)/len(neg))"
      ],
      "metadata": {
        "colab": {
          "base_uri": "https://localhost:8080/"
        },
        "id": "uKp8bMqSl7zj",
        "outputId": "c2b2f219-80e9-4c21-a409-d5db38fb5586"
      },
      "execution_count": 1,
      "outputs": [
        {
          "output_type": "stream",
          "name": "stdout",
          "text": [
            "data avg: 5.103\n",
            "pos avg: 51.28832116788321\n",
            "neg avg: -50.89159292035398\n"
          ]
        }
      ]
    },
    {
      "cell_type": "code",
      "source": [
        "#P61, 下方EX (正常的BMI: 18.5 ~ 24  kg/m2)\n",
        "h_mu=174.5\n",
        "h_sigma=7.5\n",
        "\n",
        "w_mu=69.8\n",
        "w_sigma=12.6\n",
        "n=1000\n",
        "\n",
        "simple=list(zip(\n",
        "    [random.normalvariate(h_mu,h_sigma) for _ in range(n)],\n",
        "    [random.normalvariate(w_mu,w_sigma) for _ in range(n)]\n",
        "    )\n",
        "  )\n",
        "\n",
        "bmi=[w/((h*0.01)**2) for h,w in simple]\n",
        "print('BMI Max:',max(bmi))\n",
        "print('BMI Min:',min(bmi))\n",
        "print('BMI Avg:',sum(bmi)/n)"
      ],
      "metadata": {
        "colab": {
          "base_uri": "https://localhost:8080/"
        },
        "id": "hTE1Cwdyl_6K",
        "outputId": "e0f49fe8-43ff-4c40-ebca-b6eaf52ad78b"
      },
      "execution_count": 2,
      "outputs": [
        {
          "output_type": "stream",
          "name": "stdout",
          "text": [
            "BMI Max: 41.52834911774088\n",
            "BMI Min: 10.387178269500286\n",
            "BMI Avg: 22.768869032711105\n"
          ]
        }
      ]
    }
  ]
}