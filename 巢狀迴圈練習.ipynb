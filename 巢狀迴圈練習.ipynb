{
  "nbformat": 4,
  "nbformat_minor": 0,
  "metadata": {
    "colab": {
      "provenance": []
    },
    "kernelspec": {
      "name": "python3",
      "display_name": "Python 3"
    },
    "language_info": {
      "name": "python"
    }
  },
  "cells": [
    {
      "cell_type": "code",
      "execution_count": 1,
      "metadata": {
        "id": "1HCPC0up7ZkS",
        "colab": {
          "base_uri": "https://localhost:8080/"
        },
        "outputId": "92caaa24-af28-4d74-9d82-411bf040c1b3"
      },
      "outputs": [
        {
          "output_type": "stream",
          "name": "stdout",
          "text": [
            "a:2 b:2 c:0 d:1 e:5 f:0 g:0 h:3 i:5 j:0 k:1 l:0 m:0 n:1 o:2 p:0 q:0 r:3 s:3 t:4 u:0 v:0 w:0 x:0 y:0 z:0 "
          ]
        }
      ],
      "source": [
        "# P40 EX2\n",
        "#產生串列(陣列), cnt[0], cnt[1], …, cnt[25], 用來記錄’a’,’b’,…,’z’的出現次數\n",
        "cnt=[0 for i in range(0,26)]\n",
        "sentence=\"This is a book. There is a bird in the Tree.\"\n",
        "for c in sentence.upper():\n",
        "  if c.isalpha():\n",
        "    cnt[ord(c)-65]+=1\n",
        "    \n",
        "for i in range(0,len(cnt)): \n",
        "  print(chr(ord('a')+i),\":\", cnt[i], sep='', end=' ')"
      ]
    },
    {
      "cell_type": "code",
      "source": [
        " # P40 EX3\n",
        "recs='AB3CB@AB3A2BCACBBA@2A3BC4CA'\n",
        "sp=recs.split('@')\n",
        "price={\n",
        "  'A':7,\n",
        "  'B':4,\n",
        "  'C':5\n",
        "}\n",
        "count=1\n",
        "for i in sp:\n",
        "  total=0\n",
        "  for j in i:\n",
        "    if p:=price.get(j):\n",
        "      total+= p*count\n",
        "      count=1\n",
        "    else:\n",
        "      count=int(j)\n",
        "\n",
        "  print(f'{i} -> {total}元')\n"
      ],
      "metadata": {
        "colab": {
          "base_uri": "https://localhost:8080/"
        },
        "id": "apmQmHe-tJVB",
        "outputId": "2a915e63-6017-4a95-b016-f9d059bfe1e6"
      },
      "execution_count": 13,
      "outputs": [
        {
          "output_type": "stream",
          "name": "stdout",
          "text": [
            "AB3CB -> 30元\n",
            "AB3A2BCACBBA -> 72元\n",
            "2A3BC4CA -> 58元\n"
          ]
        }
      ]
    },
    {
      "cell_type": "code",
      "source": [
        "# P42 EX3\n",
        "for i in range(1,10):\n",
        "  for j in range(1,10):\n",
        "    print(f'{i}x{j}={i*j}',end='\\t')\n",
        "  print()"
      ],
      "metadata": {
        "colab": {
          "base_uri": "https://localhost:8080/"
        },
        "id": "nuPK6CHW0b29",
        "outputId": "6e466489-2110-4303-8424-dbf963524ce6"
      },
      "execution_count": 7,
      "outputs": [
        {
          "output_type": "stream",
          "name": "stdout",
          "text": [
            "1x1=1\t1x2=2\t1x3=3\t1x4=4\t1x5=5\t1x6=6\t1x7=7\t1x8=8\t1x9=9\t\n",
            "2x1=2\t2x2=4\t2x3=6\t2x4=8\t2x5=10\t2x6=12\t2x7=14\t2x8=16\t2x9=18\t\n",
            "3x1=3\t3x2=6\t3x3=9\t3x4=12\t3x5=15\t3x6=18\t3x7=21\t3x8=24\t3x9=27\t\n",
            "4x1=4\t4x2=8\t4x3=12\t4x4=16\t4x5=20\t4x6=24\t4x7=28\t4x8=32\t4x9=36\t\n",
            "5x1=5\t5x2=10\t5x3=15\t5x4=20\t5x5=25\t5x6=30\t5x7=35\t5x8=40\t5x9=45\t\n",
            "6x1=6\t6x2=12\t6x3=18\t6x4=24\t6x5=30\t6x6=36\t6x7=42\t6x8=48\t6x9=54\t\n",
            "7x1=7\t7x2=14\t7x3=21\t7x4=28\t7x5=35\t7x6=42\t7x7=49\t7x8=56\t7x9=63\t\n",
            "8x1=8\t8x2=16\t8x3=24\t8x4=32\t8x5=40\t8x6=48\t8x7=56\t8x8=64\t8x9=72\t\n",
            "9x1=9\t9x2=18\t9x3=27\t9x4=36\t9x5=45\t9x6=54\t9x7=63\t9x8=72\t9x9=81\t\n"
          ]
        }
      ]
    },
    {
      "cell_type": "code",
      "source": [
        "# P43 EX2\n",
        "while True:\n",
        "  a,b,c=sorted(map(int,input('a b c=').split()))\n",
        "  if (a**2+b**2)==c**2:\n",
        "    print('ok')\n",
        "  else:\n",
        "    print('illegal')\n",
        "    break"
      ],
      "metadata": {
        "colab": {
          "base_uri": "https://localhost:8080/"
        },
        "id": "uv9XRr9X0_b-",
        "outputId": "9f13b0f1-cd5d-4866-c9c7-4d0564d30b6a"
      },
      "execution_count": 10,
      "outputs": [
        {
          "output_type": "stream",
          "name": "stdout",
          "text": [
            "a b c=3 4 5\n",
            "ok\n",
            "a b c=3 4 6 \n",
            "illegal\n"
          ]
        }
      ]
    },
    {
      "cell_type": "code",
      "source": [
        "# EX5\n",
        "def is_prime(n):\n",
        "  for i in range(2, n):\n",
        "    if n % i == 0:\n",
        "      return False\n",
        "  return True                 \n",
        "\n",
        "n1,n2=map(int,input('n1 n2=').split())\n",
        "if n1>=n2:\n",
        "  n1,n2=n2,n1\n",
        "for i in range(n1,n2):\n",
        "  if is_prime(i):\n",
        "    print(i,end=' ')"
      ],
      "metadata": {
        "colab": {
          "base_uri": "https://localhost:8080/"
        },
        "id": "2UyNaqqX1cOn",
        "outputId": "d1782311-1053-4ee0-c0bb-8952b90f26ae"
      },
      "execution_count": 11,
      "outputs": [
        {
          "output_type": "stream",
          "name": "stdout",
          "text": [
            "n1 n2=2 140\n",
            "2 3 5 7 11 13 17 19 23 29 31 37 41 43 47 53 59 61 67 71 73 79 83 89 97 101 103 107 109 113 127 131 137 139 "
          ]
        }
      ]
    }
  ]
}