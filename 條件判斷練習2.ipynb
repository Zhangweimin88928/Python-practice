{
  "nbformat": 4,
  "nbformat_minor": 0,
  "metadata": {
    "colab": {
      "provenance": []
    },
    "kernelspec": {
      "name": "python3",
      "display_name": "Python 3"
    },
    "language_info": {
      "name": "python"
    }
  },
  "cells": [
    {
      "cell_type": "code",
      "execution_count": 13,
      "metadata": {
        "colab": {
          "base_uri": "https://localhost:8080/"
        },
        "id": "__9ibTRNx3Gt",
        "outputId": "b77d1bba-ab7a-4d2e-ed46-3c8d5f230b07"
      },
      "outputs": [
        {
          "output_type": "stream",
          "name": "stdout",
          "text": [
            "input the score of 3 tests:90 21 41\n",
            "90 21 41\n",
            "try again\n"
          ]
        }
      ],
      "source": [
        "#P31 EX3\n",
        "import numpy as np\n",
        "a, b, c = input(\"input the score of 3 tests:\").split()\n",
        "test1, test2, test3 = int(a),int(b),int(c)\n",
        "print(test1,test2,test3)\n",
        "n=0\n",
        "for i in (test1, test2, test3):\n",
        "  if i >=60:\n",
        "   n+=1 \n",
        "  if n>=2:\n",
        "    print('pass')\n",
        "    break\n",
        "else:\n",
        "  print('try again')"
      ]
    },
    {
      "cell_type": "code",
      "source": [
        "#P31 EX4\n",
        "cmdStr = input(\"CMD>\").split()\n",
        "print(cmdStr)\n",
        "print(\"cmd=\",cmdStr[0])\n",
        "if cmdStr[0]==\"cir\":\n",
        "  r = float(cmdStr[1])\n",
        "  print(f'area={r}*{r}*3.14={r*r*3.14}')\n",
        "elif cmdStr[0]==\"rect\":\n",
        "    w = float(cmdStr[1])\n",
        "    h = float(cmdStr[2])\n",
        "    print(f'area={w}*{h}={w*h}')\n",
        "\n",
        "elif cmdStr[0]==\"trapz\":\n",
        "    top = float(cmdStr[1])\n",
        "    bottom = float(cmdStr[2])\n",
        "    h = float(cmdStr[3])\n",
        "    print(f'area=({top}+{bottom})*{h}/2={(top+bottom)*h/2}')  \n",
        "\n",
        "else:\n",
        "  print(\"Wrong Input!\")\n",
        "    "
      ],
      "metadata": {
        "colab": {
          "base_uri": "https://localhost:8080/"
        },
        "id": "D2JF_hgYx-_f",
        "outputId": "c24af71a-e790-4cb0-b238-41a5727253bd"
      },
      "execution_count": 23,
      "outputs": [
        {
          "output_type": "stream",
          "name": "stdout",
          "text": [
            "CMD>trapz 3 9 4\n",
            "['trapz', '3', '9', '4']\n",
            "cmd= trapz\n",
            "area=(3.0+9.0)*4.0/2=24.0\n"
          ]
        }
      ]
    },
    {
      "cell_type": "code",
      "source": [
        "#P34 EX1\n",
        "computation =0\n",
        "r = int(input(\"input r =\"))\n",
        "while r>=0:\n",
        "  computation =0\n",
        "  print('>area',r**2*3.14)\n",
        "  r = int(input(\"input r =\"))\n",
        "print('r<0,Bye!')\n",
        "print('#area computation =',computation)  \n"
      ],
      "metadata": {
        "colab": {
          "base_uri": "https://localhost:8080/"
        },
        "id": "bdAcRMHc4ruG",
        "outputId": "8c74df44-69e6-46c2-8429-8ac955ac02aa"
      },
      "execution_count": 20,
      "outputs": [
        {
          "output_type": "stream",
          "name": "stdout",
          "text": [
            "input r =3\n",
            ">area 28.26\n",
            "input r =2\n",
            ">area 12.56\n",
            "input r =1\n",
            ">area 3.14\n",
            "input r =0\n",
            ">area 0.0\n",
            "input r =-1\n",
            "r<0,Bye!\n",
            "#area computation = 0\n"
          ]
        }
      ]
    }
  ]
}