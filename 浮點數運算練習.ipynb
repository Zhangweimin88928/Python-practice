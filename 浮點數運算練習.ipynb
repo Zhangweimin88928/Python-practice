{
  "nbformat": 4,
  "nbformat_minor": 0,
  "metadata": {
    "colab": {
      "provenance": []
    },
    "kernelspec": {
      "name": "python3",
      "display_name": "Python 3"
    },
    "language_info": {
      "name": "python"
    }
  },
  "cells": [
    {
      "cell_type": "code",
      "execution_count": 1,
      "metadata": {
        "colab": {
          "base_uri": "https://localhost:8080/"
        },
        "id": "Pi9qh3sFYL5w",
        "outputId": "69cd59f2-3bf4-49a3-c568-b1614361792f"
      },
      "outputs": [
        {
          "output_type": "stream",
          "name": "stdout",
          "text": [
            "請輸入第一個座標8 6\n",
            "請輸入第二個座標15 -4\n",
            "distance of (8,6) and (15,-4) is 12.2066\n"
          ]
        }
      ],
      "source": [
        "#P22 EX1\n",
        "point1 = input(\"請輸入第一個座標\")\n",
        "x1,y1 = map(int,point1.split())\n",
        "\n",
        "point2 = input(\"請輸入第二個座標\")\n",
        "x2,y2 = map(int,point2.split())\n",
        "\n",
        "a= x2-x1\n",
        "b= y2-y1\n",
        "distance = (a**2+b**2)**0.5\n",
        "print(f'distance of ({x1},{y1}) and ({x2},{y2}) is {distance :.4f}')\n"
      ]
    },
    {
      "cell_type": "code",
      "source": [
        "#P22 EX2\n",
        "import math\n",
        "first_name,last_name = input('First name,last name ').split()\n",
        "height = float(input('Height(cm)'))\n",
        "feet = math.floor(height/(12*2.54))\n",
        "inch = height/2.54-(feet*12)\n",
        "\n",
        "print(\"*** Report ***\")\n",
        "print(f'{first_name},{last_name} {feet},{inch:.1f}')"
      ],
      "metadata": {
        "colab": {
          "base_uri": "https://localhost:8080/"
        },
        "id": "yT9OmiTjaR8U",
        "outputId": "f1e5d658-f9ad-4918-be4c-6b8577ad5681"
      },
      "execution_count": 10,
      "outputs": [
        {
          "output_type": "stream",
          "name": "stdout",
          "text": [
            "First name,last name Sam amy\n",
            "Height(cm)201.5\n",
            "*** Report ***\n",
            "Sam,amy 6,7.3\n"
          ]
        }
      ]
    }
  ]
}