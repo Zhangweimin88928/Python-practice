{
  "nbformat": 4,
  "nbformat_minor": 0,
  "metadata": {
    "colab": {
      "provenance": []
    },
    "kernelspec": {
      "name": "python3",
      "display_name": "Python 3"
    },
    "language_info": {
      "name": "python"
    }
  },
  "cells": [
    {
      "cell_type": "code",
      "source": [
        "#1\n",
        "from math import *\n",
        "def f(x):\n",
        "  if x>3:\n",
        "    return x**2\n",
        "  if 3>=x>=-3:\n",
        "    return (abs(x))**0.5\n",
        "  if x<-3:\n",
        "    return x**5+2*x**4\n",
        "\n",
        "x=list(range(-10,11))\n",
        "for i in x:\n",
        "  print(f'{i}= {f(i):.3f}')\n"
      ],
      "metadata": {
        "colab": {
          "base_uri": "https://localhost:8080/"
        },
        "id": "4BYDYmKx7BcM",
        "outputId": "ef830086-722f-4ab6-fb53-95a3d6d0825a"
      },
      "execution_count": null,
      "outputs": [
        {
          "output_type": "stream",
          "name": "stdout",
          "text": [
            "-10= -80000.000\n",
            "-9= -45927.000\n",
            "-8= -24576.000\n",
            "-7= -12005.000\n",
            "-6= -5184.000\n",
            "-5= -1875.000\n",
            "-4= -512.000\n",
            "-3= 1.732\n",
            "-2= 1.414\n",
            "-1= 1.000\n",
            "0= 0.000\n",
            "1= 1.000\n",
            "2= 1.414\n",
            "3= 1.732\n",
            "4= 16.000\n",
            "5= 25.000\n",
            "6= 36.000\n",
            "7= 49.000\n",
            "8= 64.000\n",
            "9= 81.000\n",
            "10= 100.000\n"
          ]
        }
      ]
    },
    {
      "cell_type": "code",
      "source": [
        "#2\n",
        "def gcdAll(listData):\n",
        "  return gcd(*listData)\n",
        "\n",
        "data = [ 2*3*3*5*7*7, 3*5*7*11*13, 2*2*3*3*5*5*7*7, 100*9*25*49]\n",
        "GCD = gcdAll(data)\n",
        "\n",
        "print(\"GCD_ALL=\",GCD)"
      ],
      "metadata": {
        "colab": {
          "base_uri": "https://localhost:8080/"
        },
        "id": "y1V-5eEX-UOm",
        "outputId": "2c4c1609-096d-4c99-d29c-860aecd5fbf1"
      },
      "execution_count": null,
      "outputs": [
        {
          "output_type": "stream",
          "name": "stdout",
          "text": [
            "GCD_ALL= 105\n"
          ]
        }
      ]
    },
    {
      "cell_type": "code",
      "source": [
        "#2\n",
        "from math import*\n",
        "def gcdAll(listData):\n",
        "  result=listData[0]\n",
        "  for i in listData[1:]:\n",
        "    result=gcd(result,i)\n",
        "  return result\n",
        "\n",
        "data = [ 2*3*3*5*7*7, 3*5*7*11*13, 2*2*3*3*5*5*7*7, 100*9*25*49]\n",
        "GCD = gcdAll(data)\n",
        "\n",
        "print(\"GCD_ALL=\",GCD)"
      ],
      "metadata": {
        "colab": {
          "base_uri": "https://localhost:8080/"
        },
        "id": "ZZ3ybydfc99V",
        "outputId": "22c5a2c6-5e45-4448-f611-73c9950b3b47"
      },
      "execution_count": null,
      "outputs": [
        {
          "output_type": "stream",
          "name": "stdout",
          "text": [
            "GCD_ALL= 105\n"
          ]
        }
      ]
    },
    {
      "cell_type": "code",
      "source": [
        "#4\n",
        "def cnk(n,k):\n",
        "  stage_u=[(n-i) for i in range(k)]\n",
        "  stage_d=list(range(1,k+1))\n",
        "  up=1\n",
        "  down=1\n",
        "  for i in stage_u:\n",
        "    up*=i\n",
        "  for i in stage_d:\n",
        "    down*=i\n",
        "\n",
        "  return up/down\n",
        "\n",
        "cnk(100,10)"
      ],
      "metadata": {
        "colab": {
          "base_uri": "https://localhost:8080/"
        },
        "id": "bLSP7Cet-8qM",
        "outputId": "be9e39c1-f608-44e6-de6c-5f2210d508ae"
      },
      "execution_count": null,
      "outputs": [
        {
          "output_type": "execute_result",
          "data": {
            "text/plain": [
              "17310309456440.0"
            ]
          },
          "metadata": {},
          "execution_count": 12
        }
      ]
    },
    {
      "cell_type": "code",
      "source": [
        "#5\n",
        "from datetime import datetime\n",
        "from math import *\n",
        "def isLeapYear(year):\n",
        "  if year%4==0 and year%100!=0: #year不能被100整除\n",
        "    return True\n",
        "  if year%400==0:\n",
        "    return True\n",
        "  if year%1000==0:\n",
        "    return True\n",
        "  else:\n",
        "    return False\n",
        "# ------------------------------------------------------------------\n",
        "\n",
        "def iThDays (y,m,d):   # 此日期是當年的第幾日 (由1/1算起)\n",
        "  monthDays=[0, 31, 28, 31, 30, 31, 30, 31, 31, 30, 31, 30, 31]\n",
        "  if isLeapYear(y):\n",
        "    monthDays[2]=29\n",
        "\n",
        "  return sum(monthDays[:m])+d\n",
        "\n",
        "\n",
        "# ------------------------------------------------------------------\n",
        "\n",
        "def diffInDays(date1, date2):\n",
        "  date1=datetime(int(date1[:4]),int(date1[4:6]),int(date1[6:]))\n",
        "  date2=datetime(int(date2[:4]),int(date2[4:6]),int(date2[6:]))\n",
        "  return date1-date2\n",
        "# ------------------------------------------------------------------\n",
        "\n",
        "monthDays=[0, 31, 28, 31, 30, 31, 30, 31, 31, 30, 31, 30, 31]\n",
        "\n",
        "#  accDays = [0, 31, 28, 31, 30, 31, 30, 31, 31, 30, 31, 30, 31]\n",
        "print(isLeapYear(2024))\n",
        "print(iThDays (2024,1,2))    # 1998/7/7與2008/4/30差幾天\n",
        "print(diffInDays('19980707', '20080430'))"
      ],
      "metadata": {
        "colab": {
          "base_uri": "https://localhost:8080/"
        },
        "id": "osdD4STlFR39",
        "outputId": "06977bb2-f714-48a1-87e6-96f4f851877e"
      },
      "execution_count": null,
      "outputs": [
        {
          "output_type": "stream",
          "name": "stdout",
          "text": [
            "True\n",
            "2\n",
            "-3585 days, 0:00:00\n"
          ]
        }
      ]
    },
    {
      "cell_type": "code",
      "source": [
        "def f(x,y):\n",
        "  return x,y\n",
        "\n",
        "a,b=f(1,2)\n",
        "print(a,b)"
      ],
      "metadata": {
        "colab": {
          "base_uri": "https://localhost:8080/"
        },
        "id": "qpsNTGoM1_eD",
        "outputId": "35f8087f-a1bf-4fef-8343-87ce4399c722"
      },
      "execution_count": null,
      "outputs": [
        {
          "output_type": "stream",
          "name": "stdout",
          "text": [
            "1 2\n"
          ]
        }
      ]
    },
    {
      "cell_type": "code",
      "source": [
        "import datetime\n",
        "print('All:', datetime.datetime.now())\n",
        "print('Year:', datetime.datetime.now().year)\n",
        "print('Month:', datetime.datetime.now().month)\n",
        "print('Day:', datetime.datetime.now().day)\n",
        "print('Weekday:', datetime.datetime.now().weekday())\n",
        "print('Time:', datetime.datetime.now().time())"
      ],
      "metadata": {
        "colab": {
          "base_uri": "https://localhost:8080/"
        },
        "id": "nH6Trz9INHnt",
        "outputId": "e5a10106-1004-41f0-e5cb-fbd47c740cc3"
      },
      "execution_count": null,
      "outputs": [
        {
          "output_type": "stream",
          "name": "stdout",
          "text": [
            "All: 2023-04-16 08:36:09.764512\n",
            "Year: 2023\n",
            "Month: 4\n",
            "Day: 16\n",
            "Weekday: 6\n",
            "Time: 08:36:09.770172\n"
          ]
        }
      ]
    },
    {
      "cell_type": "code",
      "source": [
        "#6\n",
        "import math\n",
        "\n",
        "def printFrac(up, down):\n",
        "  gcd=math.gcd(up, down)\n",
        "  up=up//gcd\n",
        "  down=down//gcd\n",
        "  if abs(up)>=down:\n",
        "    whole=up//down\n",
        "    up=abs(up)%down\n",
        "\n",
        "    if up==0:\n",
        "      print(whole)\n",
        "    else:\n",
        "      print(f'{whole}+{up}/{down}')\n",
        "  else:\n",
        "    print(f'{up}/{down}')\n",
        "\n",
        "\n",
        "def reduce(up, down):\n",
        "  gcd=math.gcd(up, down)\n",
        "  up=up//gcd\n",
        "  down=down//gcd\n",
        "  print(f'{up}/{down}')\n",
        "\n",
        "up=60\n",
        "down=36 \t # 表示分數 60/36\n",
        "printFrac(up, down) \t # 印出1+2/3\n",
        "reduce(up, down)"
      ],
      "metadata": {
        "colab": {
          "base_uri": "https://localhost:8080/"
        },
        "id": "r4bGxajgNYc0",
        "outputId": "bfe046e9-f198-40a3-f045-a50200780df1"
      },
      "execution_count": null,
      "outputs": [
        {
          "output_type": "stream",
          "name": "stdout",
          "text": [
            "1+2/3\n",
            "5/3\n"
          ]
        }
      ]
    }
  ]
}