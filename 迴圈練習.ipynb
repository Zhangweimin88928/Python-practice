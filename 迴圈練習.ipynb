{
  "nbformat": 4,
  "nbformat_minor": 0,
  "metadata": {
    "colab": {
      "provenance": []
    },
    "kernelspec": {
      "name": "python3",
      "display_name": "Python 3"
    },
    "language_info": {
      "name": "python"
    }
  },
  "cells": [
    {
      "cell_type": "code",
      "source": [
        "a =13437077345\n",
        "sum(map(lambda c:c=='7',str(a)))"
      ],
      "metadata": {
        "colab": {
          "base_uri": "https://localhost:8080/"
        },
        "id": "N9eB_9Guegi0",
        "outputId": "05fcd35f-e2c2-4161-8f19-b384fe2db089"
      },
      "execution_count": 13,
      "outputs": [
        {
          "output_type": "execute_result",
          "data": {
            "text/plain": [
              "3"
            ]
          },
          "metadata": {},
          "execution_count": 13
        }
      ]
    },
    {
      "cell_type": "code",
      "execution_count": 17,
      "metadata": {
        "colab": {
          "base_uri": "https://localhost:8080/"
        },
        "id": "93kRA1DlILrt",
        "outputId": "f24595e5-2c51-4983-df03-ced5caf82ed4"
      },
      "outputs": [
        {
          "output_type": "stream",
          "name": "stdout",
          "text": [
            "a:2 b:2 c:0 d:1 e:5 f:0 g:0 h:3 i:5 j:0 k:1 l:0 m:0 n:1 o:2 p:0 q:0 r:3 s:3 t:4 u:0 v:0 w:0 x:0 y:0 z:0 "
          ]
        }
      ],
      "source": [
        "cnt=[0 for i in range(0,26)]\n",
        "sentence=\"This is a book. There is a bird in the Tree.\"\n",
        "\n",
        "for c in sentence.upper():\n",
        "  if ord('Z')>=ord(c)>=ord('A'):\n",
        "    cnt[ord(c)-ord('A')] += 1\n",
        "       \n",
        "for i in range(0,len(cnt)):\n",
        "    print(chr(ord('a')+i),\":\", cnt[i], sep='', end=' ')"
      ]
    },
    {
      "cell_type": "code",
      "source": [
        "h=5\n",
        "for i in range(1,h+1):\n",
        "  for j in range(1,i+1):\n",
        "    print(j,end='')\n",
        "  print()\n"
      ],
      "metadata": {
        "colab": {
          "base_uri": "https://localhost:8080/"
        },
        "id": "spDT3bomP9Jg",
        "outputId": "43053eb4-3948-4ecd-8877-ac9d9a07ad5f"
      },
      "execution_count": 8,
      "outputs": [
        {
          "output_type": "stream",
          "name": "stdout",
          "text": [
            "1\n",
            "12\n",
            "123\n",
            "1234\n",
            "12345\n"
          ]
        }
      ]
    },
    {
      "cell_type": "code",
      "source": [
        "h=5\n",
        "for i in range(1,h+1):\n",
        "  for j in range(1,h-(i-1)+1):\n",
        "    print(j,end='')\n",
        "  print()\n"
      ],
      "metadata": {
        "colab": {
          "base_uri": "https://localhost:8080/"
        },
        "outputId": "305994fe-d31d-4cfa-dfbf-9150375519c8",
        "id": "vyAr5YwCSBvE"
      },
      "execution_count": 9,
      "outputs": [
        {
          "output_type": "stream",
          "name": "stdout",
          "text": [
            "12345\n",
            "1234\n",
            "123\n",
            "12\n",
            "1\n"
          ]
        }
      ]
    },
    {
      "cell_type": "code",
      "source": [
        "h=4\n",
        "for i in range(h):\n",
        "  print(\"|\",sep='',end='')\n",
        "  for j in range(h-(i-1)-1):\n",
        "    print(\" \",sep='',end='')\n",
        "\n",
        "  for j in range(i+1):\n",
        "    print(\"*\",sep='',end='')  \n",
        "  print()\n"
      ],
      "metadata": {
        "colab": {
          "base_uri": "https://localhost:8080/"
        },
        "id": "8atNSqxfea3d",
        "outputId": "4a2fe066-6849-4cf2-c5c7-d187764dfa42"
      },
      "execution_count": 18,
      "outputs": [
        {
          "output_type": "stream",
          "name": "stdout",
          "text": [
            "|    *\n",
            "|   **\n",
            "|  ***\n",
            "| ****\n"
          ]
        }
      ]
    },
    {
      "cell_type": "code",
      "source": [
        "total=0; maxno=50\n",
        "studentNo = 0\n",
        "for i in range(0,maxno):\n",
        "  score = int(input(\"Imput score\"))\n",
        "  if score < 0: break\n",
        "  studentNo+=1\n",
        "  total += score\n",
        "print(f'total={total}')\n",
        "print(f'avg={total/studentNo:.3f}')\n"
      ],
      "metadata": {
        "colab": {
          "base_uri": "https://localhost:8080/"
        },
        "id": "Sjz4Wv_pTnYF",
        "outputId": "b1ca9dff-d6bb-4b69-9e47-9537cdcdcc25"
      },
      "execution_count": 12,
      "outputs": [
        {
          "output_type": "stream",
          "name": "stdout",
          "text": [
            "Imput score10\n",
            "Imput score20\n",
            "Imput score30\n",
            "Imput score-1\n",
            "total=60\n",
            "avg=20.000\n"
          ]
        }
      ]
    },
    {
      "cell_type": "code",
      "source": [
        "a,b =98,28\n",
        "gcd = 1\n",
        "bound = min(a,b)\n",
        "for i in range(bound,0,-1):\n",
        "  print(i)"
      ],
      "metadata": {
        "colab": {
          "base_uri": "https://localhost:8080/"
        },
        "id": "aWzaxqcwgep1",
        "outputId": "033e766d-9ec9-4739-a668-826d8b847e0a"
      },
      "execution_count": 19,
      "outputs": [
        {
          "output_type": "stream",
          "name": "stdout",
          "text": [
            "28\n",
            "27\n",
            "26\n",
            "25\n",
            "24\n",
            "23\n",
            "22\n",
            "21\n",
            "20\n",
            "19\n",
            "18\n",
            "17\n",
            "16\n",
            "15\n",
            "14\n",
            "13\n",
            "12\n",
            "11\n",
            "10\n",
            "9\n",
            "8\n",
            "7\n",
            "6\n",
            "5\n",
            "4\n",
            "3\n",
            "2\n",
            "1\n"
          ]
        }
      ]
    },
    {
      "cell_type": "code",
      "source": [
        "while True:\n",
        "  a,b,c=map(int,input(\"Input a,b,c: \").spilt())\n",
        "  small = min(a,b,c)\n",
        "  large = max(a,b,c)\n",
        "  mid = (a+b+c)-small-large\n",
        "   "
      ],
      "metadata": {
        "id": "OfySDIudkqyV"
      },
      "execution_count": null,
      "outputs": []
    }
  ]
}