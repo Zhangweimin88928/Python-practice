{
  "nbformat": 4,
  "nbformat_minor": 0,
  "metadata": {
    "colab": {
      "provenance": []
    },
    "kernelspec": {
      "name": "python3",
      "display_name": "Python 3"
    },
    "language_info": {
      "name": "python"
    }
  },
  "cells": [
    {
      "cell_type": "code",
      "execution_count": null,
      "metadata": {
        "colab": {
          "base_uri": "https://localhost:8080/"
        },
        "id": "OdL7sHQtnhPq",
        "outputId": "cf888fa0-2ad8-46fc-caa5-743fc5a43be7"
      },
      "outputs": [
        {
          "output_type": "stream",
          "name": "stdout",
          "text": [
            "input the score of 3 tests:90 30 70\n",
            "90 30 70\n",
            "pass\n"
          ]
        }
      ],
      "source": [
        "#P31 EX3\n",
        "import numpy as np\n",
        "a, b, c = input(\"input the score of 3 tests:\").split()\n",
        "test1, test2, test3 = int(a),int(b),int(c)\n",
        "print(test1,test2,test3)\n",
        "n=0\n",
        "for i in (test1, test2, test3):\n",
        "  if i >=60:\n",
        "   n+=1\n",
        "  if n>=2:\n",
        "    print('pass')\n",
        "    break\n",
        "else:\n",
        "  print('try again')\n"
      ]
    },
    {
      "cell_type": "code",
      "source": [
        "#P31 EX4\n",
        "cmdStr = input(\"CMD>\").split()\n",
        "print(cmdStr)\n",
        "print(\"cmd=\",cmdStr[0])\n",
        "if cmdStr[0]==\"cir\":\n",
        "  r = float(cmdStr[1])\n",
        "  print(f'area={r}*{r}*3.14={r*r*3.14}')\n",
        "elif cmdStr[0]==\"rect\":\n",
        "    w = float(cmdStr[1])\n",
        "    h = float(cmdStr[2])\n",
        "    print(f'area={w}*{h}={w*h}')\n",
        "\n",
        "elif cmdStr[0]==\"trapz\":\n",
        "    top = float(cmdStr[1])\n",
        "    bottom = float(cmdStr[2])\n",
        "    h = float(cmdStr[3])\n",
        "    print(f'area=({top}+{bottom})*{h}/2={(top+bottom)*h/2}')\n",
        "\n",
        "else:\n",
        "  print(\"Wrong Input!\")\n",
        "\n"
      ],
      "metadata": {
        "colab": {
          "base_uri": "https://localhost:8080/"
        },
        "id": "BpTfcUaOrKF0",
        "outputId": "8aef1de6-c510-45ab-dce5-5e0e8b322828"
      },
      "execution_count": null,
      "outputs": [
        {
          "output_type": "stream",
          "name": "stdout",
          "text": [
            "CMD>trapz 3 9 4\n",
            "['trapz', '3', '9', '4']\n",
            "cmd= trapz\n",
            "area=(3.0+9.0)*4.0/2=24.0\n"
          ]
        }
      ]
    },
    {
      "cell_type": "code",
      "source": [
        "# P34 EX1\n",
        "computation=0\n",
        "r=float(input('input r= '))\n",
        "while r>=0:\n",
        "  computation+=1\n",
        "  print('> area=',r**2*3.14)\n",
        "  r=float(input('input r='))\n",
        "print('r<0,Bye!')\n",
        "print('# area computation =',computation)"
      ],
      "metadata": {
        "colab": {
          "base_uri": "https://localhost:8080/"
        },
        "id": "vP0AaGdn2p_M",
        "outputId": "92bd93c0-16f5-4c6e-8372-73bbdc66f302"
      },
      "execution_count": null,
      "outputs": [
        {
          "output_type": "stream",
          "name": "stdout",
          "text": [
            "input r= 1\n",
            "> area= 3.14\n",
            "input r=3.5\n",
            "> area= 38.465\n",
            "input r=-1\n",
            "r<0,Bye!\n"
          ]
        }
      ]
    },
    {
      "cell_type": "code",
      "source": [
        "# P34 EX2\n",
        "\n",
        "# 及格總分/及格人數/及格最高分\n",
        "_sum_pass=0\n",
        "_pass_n=0\n",
        "_max=0\n",
        "\n",
        "# 總平均/總人數\n",
        "_sum=0\n",
        "n=0\n",
        "while True:\n",
        "  score=int(input('score='))\n",
        "  if score!=-2:\n",
        "    if score==-1:\n",
        "      continue\n",
        "    if score>=60:\n",
        "      _sum_pass+=score\n",
        "      _pass_n+=1\n",
        "      _max=score if score>_max else _max\n",
        "    _sum+=score\n",
        "    n+=1\n",
        "  else:\n",
        "    break\n",
        "print(f'avg={_sum/n},passAvg={_sum_pass/_pass_n},max={_max}')"
      ],
      "metadata": {
        "colab": {
          "base_uri": "https://localhost:8080/"
        },
        "id": "IMyzcJJ75H_q",
        "outputId": "9175ec8a-6e55-4582-e5f4-005468ef2b86"
      },
      "execution_count": null,
      "outputs": [
        {
          "output_type": "stream",
          "name": "stdout",
          "text": [
            "score=60\n",
            "score=10\n",
            "score=100\n",
            "score=75\n",
            "score=35\n",
            "score=83\n",
            "score=73\n",
            "score=90\n",
            "score=42\n",
            "score=85\n",
            "score=0\n",
            "score=60\n",
            "score=20\n",
            "score=-2\n",
            "avg=56.38461538461539,passAvg=78.25,max=100\n"
          ]
        }
      ]
    },
    {
      "cell_type": "code",
      "source": [
        "# P35 EX3\n",
        "\n",
        "def precision(martix,predicted_value):\n",
        "  p = martix[0][0]/sum(martix[0]) if predicted_value else martix[1][1]/sum(martix[1])\n",
        "  return round(p,3)\n",
        "\n",
        "def recall(martix,reality_value):\n",
        "  p = martix[0][0]/sum([i[0] for i in martix]) if reality_value else martix[1][1]/sum([i[1] for i in martix])\n",
        "  return round(p,3)\n",
        "\n",
        "def accuracy(martix):\n",
        "  p = (martix[0][0]+martix[1][1])/sum([item for i in martix for item in i])\n",
        "  return round(p,3)\n",
        "\n",
        "while True:\n",
        "  tp,fp,tn,fn = map(int,input('(TP,FP,TN,FN) = ').split())\n",
        "  martix=[\n",
        "      [tp,fp],\n",
        "      [fn,tn]\n",
        "  ]\n",
        "  print(f'Precision(P):{precision(martix,True)}, Precision(N):{precision(martix,False)}')\n",
        "  print(f'Recall(P):{recall(martix,True)}, Recall(N):{recall(martix,False)}')\n",
        "  print(f'Accuracy:{accuracy(martix)}')\n",
        "  _continue=input('=== continue? (y/n) ')\n",
        "  if _continue!='y':\n",
        "    break\n",
        ""
      ],
      "metadata": {
        "colab": {
          "base_uri": "https://localhost:8080/"
        },
        "id": "zI5I4ohk_ahg",
        "outputId": "e4ee2f7c-6104-40f5-9684-62cd35702443"
      },
      "execution_count": null,
      "outputs": [
        {
          "name": "stdout",
          "output_type": "stream",
          "text": [
            "(TP,FP,TN,FN) = 80 40 60 70\n",
            "Precision(P):0.667, Precision(N):0.462\n",
            "Recall(P):0.533, Recall(N):0.6\n",
            "Accuracy:0.56\n",
            "=== continue? (y/n) n\n"
          ]
        }
      ]
    },
    {
      "cell_type": "code",
      "source": [
        "martix=[[80,30],[20,70]]\n",
        "sum(map(lambda x:x[0],martix))"
      ],
      "metadata": {
        "colab": {
          "base_uri": "https://localhost:8080/"
        },
        "id": "2GO_eaqlsWb1",
        "outputId": "502e81ae-f232-418a-b194-1f82ae518551"
      },
      "execution_count": null,
      "outputs": [
        {
          "output_type": "execute_result",
          "data": {
            "text/plain": [
              "100"
            ]
          },
          "metadata": {},
          "execution_count": 7
        }
      ]
    }
  ]
}