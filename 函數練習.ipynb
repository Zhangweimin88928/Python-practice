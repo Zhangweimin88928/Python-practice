{
  "nbformat": 4,
  "nbformat_minor": 0,
  "metadata": {
    "colab": {
      "provenance": []
    },
    "kernelspec": {
      "name": "python3",
      "display_name": "Python 3"
    },
    "language_info": {
      "name": "python"
    }
  },
  "cells": [
    {
      "cell_type": "code",
      "execution_count": null,
      "metadata": {
        "colab": {
          "base_uri": "https://localhost:8080/"
        },
        "id": "4-q7oB0zhluO",
        "outputId": "3008cfe4-2985-4733-8e81-a1f3988e2bcd"
      },
      "outputs": [
        {
          "output_type": "stream",
          "name": "stdout",
          "text": [
            "-10= -80000 \n",
            "-9= -45927 \n",
            "-8= -24576 \n",
            "-7= -12005 \n",
            "-6= -5184 \n",
            "-5= -1875 \n",
            "-4= -512 \n",
            "-3= 2 \n",
            "-2= 1 \n",
            "-1= 1 \n",
            "0= 0 \n",
            "1= 1 \n",
            "2= 1 \n",
            "3= 2 \n",
            "4= 16 \n",
            "5= 25 \n",
            "6= 36 \n",
            "7= 49 \n",
            "8= 64 \n",
            "9= 81 \n",
            "10= 100 \n"
          ]
        }
      ],
      "source": [
        "#1\n",
        "from math import *\n",
        "\n",
        "def f(x):\n",
        "  if x>3:\n",
        "    return x**2\n",
        "  if 3>=x>=-3:\n",
        "    return (abs(x))**0.5\n",
        "  if x<-3:\n",
        "    return x**5+2*(x)**4\n",
        "\n",
        "x=list(range(-10,11))\n",
        "for i in x:\n",
        "  print(f'{i}= {f(i):.0f} ')\n"
      ]
    },
    {
      "cell_type": "code",
      "source": [
        "#2\n",
        "from math import *\n",
        "def gcdAll(listData): \n",
        "\n",
        "  return gcd(*listData)  # DIY here \n",
        "\n",
        " \n",
        "\n",
        "data = [ 2*3*3*5*7*7, 3*5*7*11*13, 2*2*3*3*5*5*7*7, 100*9*25*49] \n",
        "GCD = gcdAll(data) \n",
        "\n",
        "print(\"GCD_ALL=\",GCD)   "
      ],
      "metadata": {
        "colab": {
          "base_uri": "https://localhost:8080/"
        },
        "id": "rQF9uOYKn2uo",
        "outputId": "7ecfa5b1-5b6f-4786-baf8-934dfeda5c76"
      },
      "execution_count": null,
      "outputs": [
        {
          "output_type": "stream",
          "name": "stdout",
          "text": [
            "GCD_ALL= 105\n"
          ]
        }
      ]
    },
    {
      "cell_type": "code",
      "source": [
        "#3\n",
        "def cnk(n,k):\n",
        "  rlt_u = [(n-i) for i in range(k)]\n",
        "  rlt_d = list(range(1,k+1))\n",
        "  up,down=1,1\n",
        "  for i in rlt_u:\n",
        "    up*=i\n",
        "  for i in rlt_d:\n",
        "    down*=i\n",
        "  \n",
        "  return up/down\n",
        "\n",
        "cnk(100,10)"
      ],
      "metadata": {
        "colab": {
          "base_uri": "https://localhost:8080/"
        },
        "id": "6Xg54qlP6fYe",
        "outputId": "42f55918-51c1-47fc-ffa0-30e532f9e2ba"
      },
      "execution_count": null,
      "outputs": [
        {
          "output_type": "execute_result",
          "data": {
            "text/plain": [
              "17310309456440.0"
            ]
          },
          "metadata": {},
          "execution_count": 2
        }
      ]
    },
    {
      "cell_type": "code",
      "source": [
        "#4\n",
        "from datetime import datetime\n",
        "from math import *\n",
        "\n",
        "def isLeapYear(year):  # return True/False   \n",
        "  if year%4==0 and year%100!=0:\n",
        "    return True\n",
        "  if year%400==0:\n",
        "    return True    \n",
        "  if year%1000==0:\n",
        "    return True \n",
        "  else:\n",
        "    return False\n",
        " \n",
        "# ------------------------------------------------------------------ \n",
        "\n",
        "def iThDays (y,m,d):   # 此日期是當年的第幾日 (由1/1算起)  \n",
        "  monthDays=[0, 31, 28, 31, 30, 31, 30, 31, 31, 30, 31, 30, 31] \n",
        "  if isLeapYear(y):\n",
        "    monthDays[2]=29\n",
        "  return sum(monthDays[:m])+d\n",
        "\n",
        "# ------------------------------------------------------------------ \n",
        "def diffInDays(date1, date2): \n",
        "  date1=datetime(int(date1[:4]),int(date1[4:6]),int(date1[6:]))\n",
        "  date2=datetime(int(date2[:4]),int(date2[4:6]),int(date2[6:]))\n",
        "  return date1-date2   # DIY\n",
        "# ------------------------------------------------------------------ \n",
        "\n",
        "monthDays=[0, 31, 28, 31, 30, 31, 30, 31, 31, 30, 31, 30, 31] \n",
        "\n",
        "#  accDays = [0, 31, 28, 31, 30, 31, 30, 31, 31, 30, 31, 30, 31] \n",
        "\n",
        "\n",
        "print(f'isLeapYear= {isLeapYear(2024)}')\n",
        "print(f'iThDays= {iThDays(2024,3,1)}')\n",
        "print(diffInDays('20230413','20230401'))"
      ],
      "metadata": {
        "colab": {
          "base_uri": "https://localhost:8080/"
        },
        "id": "iaBaNp8douOe",
        "outputId": "c95905e3-730b-411e-8bae-f5735054a5b4"
      },
      "execution_count": null,
      "outputs": [
        {
          "output_type": "stream",
          "name": "stdout",
          "text": [
            "isLeapYear= True\n",
            "iThDays= 61\n",
            "12 days, 0:00:00\n"
          ]
        }
      ]
    },
    {
      "cell_type": "code",
      "source": [
        "#5\n",
        "import math\n",
        "\n",
        "def printFrac(up, down):\n",
        "  gcd=math.gcd(up, down)\n",
        "  up=up//gcd\n",
        "  down=down//gcd\n",
        "  if abs(up)>=down:\n",
        "    whole=up//down  # //整除\n",
        "    up=abs(up)%down # %取餘數\n",
        "\n",
        "    if up==0:\n",
        "      print(whole)\n",
        "    else:\n",
        "      print(f'{whole} {up}/{down}')\n",
        "\n",
        "\n",
        "def reduce(up, down):\n",
        "  gcd=math.gcd(up, down)\n",
        "  up=up//gcd\n",
        "  down=down//gcd \n",
        "  return (up,down)\n",
        "\n",
        "\n",
        "up=60\n",
        "down=36 \t # 表示分數 60/36 \n",
        "printFrac(up, down) \t # 印出1+2/3  \n",
        "up, down = reduce(up, down) \n",
        "print(up, \"/\", down)"
      ],
      "metadata": {
        "colab": {
          "base_uri": "https://localhost:8080/"
        },
        "id": "7UbbDtAYxsN2",
        "outputId": "839229e4-fc1a-4a53-8537-af875663c09e"
      },
      "execution_count": 4,
      "outputs": [
        {
          "output_type": "stream",
          "name": "stdout",
          "text": [
            "1 2/3\n",
            "5 / 3\n"
          ]
        }
      ]
    }
  ]
}