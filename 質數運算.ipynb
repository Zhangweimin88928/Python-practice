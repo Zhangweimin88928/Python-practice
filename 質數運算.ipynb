{
  "nbformat": 4,
  "nbformat_minor": 0,
  "metadata": {
    "colab": {
      "provenance": []
    },
    "kernelspec": {
      "name": "python3",
      "display_name": "Python 3"
    },
    "language_info": {
      "name": "python"
    }
  },
  "cells": [
    {
      "cell_type": "code",
      "source": [
        "# P45 EX4\n",
        "h=4\n",
        "for i in range(h):\n",
        "  print(' '*(h-i),end='')\n",
        "  print('*'*(i*2+1),end='')\n",
        "  print()"
      ],
      "metadata": {
        "colab": {
          "base_uri": "https://localhost:8080/"
        },
        "id": "EaPHZ2Qe65Yh",
        "outputId": "46dc4c80-c324-49f9-c18a-fa72a7e0b5bb"
      },
      "execution_count": 5,
      "outputs": [
        {
          "output_type": "stream",
          "name": "stdout",
          "text": [
            "    *\n",
            "   ***\n",
            "  *****\n",
            " *******\n"
          ]
        }
      ]
    },
    {
      "cell_type": "code",
      "source": [
        "# P45 EX5\n",
        "def C(n,k):\n",
        "  total=1\n",
        "  for i in range(n,k-1,-1):\n",
        "    total*=i\n",
        "  for i in range(1,n-k+2):\n",
        "    total/=i\n",
        "  return total\n",
        "C(100,97)"
      ],
      "metadata": {
        "colab": {
          "base_uri": "https://localhost:8080/"
        },
        "id": "sI0yoXZt-Igt",
        "outputId": "a63193e7-a21d-4dfb-b50b-db32a9d7e9dc"
      },
      "execution_count": 6,
      "outputs": [
        {
          "output_type": "execute_result",
          "data": {
            "text/plain": [
              "3921225.0"
            ]
          },
          "metadata": {},
          "execution_count": 6
        }
      ]
    },
    {
      "cell_type": "code",
      "source": [
        "# P50 EX1\n",
        "a=[1,2,3,4,5,6,7,8]\n",
        "print(a[4:]+a[:4])\n",
        "\n",
        "half=len(a)//2\n",
        "for i in range(half):\n",
        "  a[i],a[half+i]=a[half+i],a[i]\n",
        "print(a)\n"
      ],
      "metadata": {
        "colab": {
          "base_uri": "https://localhost:8080/"
        },
        "id": "gNPGs52lA3KY",
        "outputId": "db30518a-e86b-47e8-f1f2-285d379c42e8"
      },
      "execution_count": 7,
      "outputs": [
        {
          "output_type": "stream",
          "name": "stdout",
          "text": [
            "[5, 6, 7, 8, 1, 2, 3, 4]\n",
            "[5, 6, 7, 8, 1, 2, 3, 4]\n"
          ]
        }
      ]
    },
    {
      "cell_type": "code",
      "source": [
        "# P50 EX2\n",
        "a=[1,3,4,7,9,11]\n",
        "print(a[::-1])\n",
        "\n",
        "half=len(a)//2\n",
        "for i in range(half):\n",
        "  a[i],a[len(a)-i-1]=a[len(a)-i-1],a[i]\n",
        "print(a)"
      ],
      "metadata": {
        "colab": {
          "base_uri": "https://localhost:8080/"
        },
        "id": "P9ykZixbCsRi",
        "outputId": "aa03647b-bf0a-4b6f-fabd-61da14130d78"
      },
      "execution_count": 8,
      "outputs": [
        {
          "output_type": "stream",
          "name": "stdout",
          "text": [
            "[11, 9, 7, 4, 3, 1]\n",
            "[11, 9, 7, 4, 3, 1]\n"
          ]
        }
      ]
    },
    {
      "cell_type": "code",
      "source": [
        "# P50 EX3\n",
        "a=[1,3,5,7,9,11]\n",
        "print([a[-1]]+a[:-1])\n",
        "\n",
        "last=a[-1]\n",
        "for i in range(len(a)-1,0,-1):\n",
        "  a[i]=a[i-1]\n",
        "a[0]=last\n",
        "print(a)"
      ],
      "metadata": {
        "colab": {
          "base_uri": "https://localhost:8080/"
        },
        "id": "9MkEo5eWKSNk",
        "outputId": "d91bedaa-e7cf-4f6a-bcd3-0eac911effdd"
      },
      "execution_count": 9,
      "outputs": [
        {
          "output_type": "stream",
          "name": "stdout",
          "text": [
            "[11, 1, 3, 5, 7, 9]\n",
            "[11, 1, 3, 5, 7, 9]\n"
          ]
        }
      ]
    },
    {
      "cell_type": "code",
      "source": [
        "# P51 EX2\n",
        "score=[88,45,63,74,88,36,57,45,88,100,95]\n",
        "query=int(input('Input the score:'))\n",
        "_index=[print(f'[{x}]',query) for x in range(len(score)) if score[x]==query]\n"
      ],
      "metadata": {
        "colab": {
          "base_uri": "https://localhost:8080/"
        },
        "id": "2b2B4n6AYnRR",
        "outputId": "adecb703-ca08-43c8-cd30-636fe2a74e38"
      },
      "execution_count": 10,
      "outputs": [
        {
          "output_type": "stream",
          "name": "stdout",
          "text": [
            "Input the score:88\n",
            "[0] 88\n",
            "[4] 88\n",
            "[8] 88\n"
          ]
        }
      ]
    },
    {
      "cell_type": "code",
      "source": [
        "# P53 EX2\n",
        "scores=[10,9,11,23,49,100,89]\n",
        "cnt=[0]*11\n",
        "score_dict=dict(zip([str(i) for i in range(0,101,10)],range(11)))\n",
        "for i,score in enumerate(scores):\n",
        "  for j in range(0,101,10):\n",
        "    # print(i,'~',i+9) \n",
        "    if score in range(j,j+10):\n",
        "      cnt[score_dict[str(j)]]+=1\n",
        "\n",
        "print(f'[0~9]:{cnt[0]}人, [10~19]:{cnt[1]}人, [20~29]:{cnt[2]}人, [30~39]:{cnt[3]}人, [40~49]:{cnt[4]}人,\\n [50~59]:{cnt[5]}人, [60~69]:{cnt[6]}人, [70~79]:{cnt[7]}人, [80~89]:{cnt[8]}人, [90~99]:{cnt[9]}人, [100]:{cnt[10]}人')"
      ],
      "metadata": {
        "colab": {
          "base_uri": "https://localhost:8080/"
        },
        "id": "JUGI2Qc6Ybfq",
        "outputId": "49af170d-e6e0-4fb9-a95c-559654650cb9"
      },
      "execution_count": 11,
      "outputs": [
        {
          "output_type": "stream",
          "name": "stdout",
          "text": [
            "[0~9]:1人, [10~19]:2人, [20~29]:1人, [30~39]:0人, [40~49]:1人,\n",
            " [50~59]:0人, [60~69]:0人, [70~79]:0人, [80~89]:1人, [90~99]:0人, [100]:1人\n"
          ]
        }
      ]
    },
    {
      "cell_type": "code",
      "source": [
        "# EX5\n",
        "import math\n",
        "\n",
        "# 檢查是否是質數\n",
        "def is_prime(n):\n",
        "    if n < 2:\n",
        "        return False\n",
        "    for i in range(2, int(math.sqrt(n))+1):\n",
        "        if n % i == 0:\n",
        "            return False\n",
        "    return True\n",
        "\n",
        "# 找到n的因數p和q\n",
        "def find_pq(n):\n",
        "    r = int(math.sqrt(n)) + 1\n",
        "    for p in range(2, r):\n",
        "        if n % p == 0:\n",
        "            q = n // p\n",
        "            if is_prime(q):\n",
        "                return p, q\n",
        "    return None\n",
        "\n",
        "# 測試\n",
        "n = 42383945814257490497280738942573216 # 一個大質數\n",
        "p, q = find_pq(n)\n",
        "print(\"n =\", n)\n",
        "print(\"p =\", p)\n",
        "print(\"q =\", q)\n"
      ],
      "metadata": {
        "id": "C2_xkzNjj5cl",
        "colab": {
          "base_uri": "https://localhost:8080/",
          "height": 368
        },
        "outputId": "907ead61-f255-4cc7-b10e-e4c05a1aaf8f"
      },
      "execution_count": 12,
      "outputs": [
        {
          "output_type": "error",
          "ename": "KeyboardInterrupt",
          "evalue": "ignored",
          "traceback": [
            "\u001b[0;31m---------------------------------------------------------------------------\u001b[0m",
            "\u001b[0;31mKeyboardInterrupt\u001b[0m                         Traceback (most recent call last)",
            "\u001b[0;32m<ipython-input-12-4a477d50fdcc>\u001b[0m in \u001b[0;36m<module>\u001b[0;34m\u001b[0m\n\u001b[1;32m     23\u001b[0m \u001b[0;31m# 測試\u001b[0m\u001b[0;34m\u001b[0m\u001b[0;34m\u001b[0m\u001b[0m\n\u001b[1;32m     24\u001b[0m \u001b[0mn\u001b[0m \u001b[0;34m=\u001b[0m \u001b[0;36m42383945814257490497280738942573216\u001b[0m \u001b[0;31m# 一個大質數\u001b[0m\u001b[0;34m\u001b[0m\u001b[0;34m\u001b[0m\u001b[0m\n\u001b[0;32m---> 25\u001b[0;31m \u001b[0mp\u001b[0m\u001b[0;34m,\u001b[0m \u001b[0mq\u001b[0m \u001b[0;34m=\u001b[0m \u001b[0mfind_pq\u001b[0m\u001b[0;34m(\u001b[0m\u001b[0mn\u001b[0m\u001b[0;34m)\u001b[0m\u001b[0;34m\u001b[0m\u001b[0;34m\u001b[0m\u001b[0m\n\u001b[0m\u001b[1;32m     26\u001b[0m \u001b[0mprint\u001b[0m\u001b[0;34m(\u001b[0m\u001b[0;34m\"n =\"\u001b[0m\u001b[0;34m,\u001b[0m \u001b[0mn\u001b[0m\u001b[0;34m)\u001b[0m\u001b[0;34m\u001b[0m\u001b[0;34m\u001b[0m\u001b[0m\n\u001b[1;32m     27\u001b[0m \u001b[0mprint\u001b[0m\u001b[0;34m(\u001b[0m\u001b[0;34m\"p =\"\u001b[0m\u001b[0;34m,\u001b[0m \u001b[0mp\u001b[0m\u001b[0;34m)\u001b[0m\u001b[0;34m\u001b[0m\u001b[0;34m\u001b[0m\u001b[0m\n",
            "\u001b[0;32m<ipython-input-12-4a477d50fdcc>\u001b[0m in \u001b[0;36mfind_pq\u001b[0;34m(n)\u001b[0m\n\u001b[1;32m     15\u001b[0m     \u001b[0mr\u001b[0m \u001b[0;34m=\u001b[0m \u001b[0mint\u001b[0m\u001b[0;34m(\u001b[0m\u001b[0mmath\u001b[0m\u001b[0;34m.\u001b[0m\u001b[0msqrt\u001b[0m\u001b[0;34m(\u001b[0m\u001b[0mn\u001b[0m\u001b[0;34m)\u001b[0m\u001b[0;34m)\u001b[0m \u001b[0;34m+\u001b[0m \u001b[0;36m1\u001b[0m\u001b[0;34m\u001b[0m\u001b[0;34m\u001b[0m\u001b[0m\n\u001b[1;32m     16\u001b[0m     \u001b[0;32mfor\u001b[0m \u001b[0mp\u001b[0m \u001b[0;32min\u001b[0m \u001b[0mrange\u001b[0m\u001b[0;34m(\u001b[0m\u001b[0;36m2\u001b[0m\u001b[0;34m,\u001b[0m \u001b[0mr\u001b[0m\u001b[0;34m)\u001b[0m\u001b[0;34m:\u001b[0m\u001b[0;34m\u001b[0m\u001b[0;34m\u001b[0m\u001b[0m\n\u001b[0;32m---> 17\u001b[0;31m         \u001b[0;32mif\u001b[0m \u001b[0mn\u001b[0m \u001b[0;34m%\u001b[0m \u001b[0mp\u001b[0m \u001b[0;34m==\u001b[0m \u001b[0;36m0\u001b[0m\u001b[0;34m:\u001b[0m\u001b[0;34m\u001b[0m\u001b[0;34m\u001b[0m\u001b[0m\n\u001b[0m\u001b[1;32m     18\u001b[0m             \u001b[0mq\u001b[0m \u001b[0;34m=\u001b[0m \u001b[0mn\u001b[0m \u001b[0;34m//\u001b[0m \u001b[0mp\u001b[0m\u001b[0;34m\u001b[0m\u001b[0;34m\u001b[0m\u001b[0m\n\u001b[1;32m     19\u001b[0m             \u001b[0;32mif\u001b[0m \u001b[0mis_prime\u001b[0m\u001b[0;34m(\u001b[0m\u001b[0mq\u001b[0m\u001b[0;34m)\u001b[0m\u001b[0;34m:\u001b[0m\u001b[0;34m\u001b[0m\u001b[0;34m\u001b[0m\u001b[0m\n",
            "\u001b[0;31mKeyboardInterrupt\u001b[0m: "
          ]
        }
      ]
    }
  ]
}